{
  "nbformat": 4,
  "nbformat_minor": 0,
  "metadata": {
    "colab": {
      "name": "Копия блокнота \"Добро пожаловать в Colaboratory!\"",
      "provenance": [],
      "collapsed_sections": [],
      "include_colab_link": true
    },
    "kernelspec": {
      "display_name": "Python 3",
      "name": "python3"
    }
  },
  "cells": [
    {
      "cell_type": "markdown",
      "metadata": {
        "id": "view-in-github",
        "colab_type": "text"
      },
      "source": [
        "<a href=\"https://colab.research.google.com/github/WangPei1999/-/blob/main/leetcode_try.ipynb\" target=\"_parent\"><img src=\"https://colab.research.google.com/assets/colab-badge.svg\" alt=\"Open In Colab\"/></a>"
      ]
    },
    {
      "cell_type": "code",
      "metadata": {
        "id": "vixBc62VJVEi"
      },
      "source": [
        "#7.整数反转\n",
        "class Solution:\n",
        "    def reverse(self, x: int) -> int:\n",
        "        k=0\n",
        "        if x<0:\n",
        "            k=1\n",
        "        x=abs(x)\n",
        "        lst = list(str(x))\n",
        "        # L,R为字符串的左、右索引\n",
        "        L, R = 0, len(lst)-1\n",
        "        while L <= R:\n",
        "            if lst[L] != lst[R]:\n",
        "                lst[L],lst[R]=lst[R],lst[L]\n",
        "            # 当lst[L]等于lst[R]时，左索引值+1，右索引值-1\n",
        "            L += 1\n",
        "            R -= 1\n",
        "        strl=\"\".join(lst)\n",
        "        x=int(strl)*(-1)**k\n",
        "        return x"
      ],
      "execution_count": null,
      "outputs": []
    },
    {
      "cell_type": "markdown",
      "metadata": {
        "id": "mtgvYXiNeRmi"
      },
      "source": [
        "**3.无重复字符的最长子串**\n",
        "\n",
        "给定一个字符串 s ，请你找出其中不含有重复字符的 最长子串 的长度。\n",
        "\n",
        " \n",
        "\n",
        "示例 1:\n",
        "\n",
        "输入: s = \"abcabcbb\"\n",
        "输出: 3 \n",
        "解释: 因为无重复字符的最长子串是 \"abc\"，所以其长度为 3。"
      ]
    },
    {
      "cell_type": "code",
      "metadata": {
        "id": "4xxvTQuYek5i"
      },
      "source": [
        "class Solution:\n",
        "    def lengthOfLongestSubstring(self, s: str) -> int:\n",
        "        digits=list(s)\n",
        "        n=0\n",
        "        i=1\n",
        "        j=0\n",
        "        n=len(digits)\n",
        "        flag=0\n",
        "        num=1#记录当前的子串长度\n",
        "        k=0\n",
        "        tag=0#存储当前最大的长度\n",
        "        if n==0:\n",
        "            return 0\n",
        "        elif n==1:\n",
        "            return 1\n",
        "        else:\n",
        "            for i in range(1,n):\n",
        "                j=i-1\n",
        "                for j in range(k,i):\n",
        "                    if digits[j]==digits[i]:\n",
        "                        flag=1\n",
        "                        k=j+1\n",
        "                        break\n",
        "                    else:\n",
        "                        j-=1#由近到远进行比较\n",
        "                if flag==1:\n",
        "                    num=i-j#将计数替换为新的不重复字符字串的长度\n",
        "                    flag=0\n",
        "                else:\n",
        "                    num+=1\n",
        "                tag=max(tag,num)#检查是否还是最大长度，不是则替换\n",
        "                i+=1     \n",
        "            return tag"
      ],
      "execution_count": null,
      "outputs": []
    },
    {
      "cell_type": "markdown",
      "metadata": {
        "id": "kxN4tnXiyBru"
      },
      "source": [
        "**4. 寻找两个正序数组的中位数**\n",
        "\n",
        "给定两个大小分别为 m 和 n 的正序（从小到大）数组 nums1 和 nums2。请你找出并返回这两个正序数组的 中位数 。\n",
        "\n",
        " \n",
        "\n",
        "示例 1：\n",
        "\n",
        "输入：nums1 = [1,3], nums2 = [2]\n",
        "输出：2.00000\n",
        "解释：合并数组 = [1,2,3] ，中位数 2"
      ]
    },
    {
      "cell_type": "code",
      "metadata": {
        "id": "7VbbUistyCKx",
        "colab": {
          "base_uri": "https://localhost:8080/"
        },
        "outputId": "8b88fd5b-5744-45c4-96c0-b6fc76439b27"
      },
      "source": [
        "nums1=[1,4,7,11]\n",
        "nums2=[]\n",
        "a=len(nums1)\n",
        "b=len(nums2)\n",
        "n=a+b\n",
        "i=0\n",
        "j=0\n",
        "if a==0:\n",
        "  k=b//2\n",
        "  tag=(nums2[k]+nums2[b-1-k])/2.0\n",
        "elif b==0:\n",
        "  k=a//2\n",
        "  tag=(nums1[k]+nums1[a-1-k])/2.0    \n",
        "else:\n",
        "  if nums1[a-1]<=nums2[0]:\n",
        "    nums=nums1+nums2\n",
        "  elif nums2[b-1]<=nums1[0]:\n",
        "    nums=nums2+nums1\n",
        "  else:\n",
        "    for i in range(0,a):\n",
        "      if nums2[0]<=nums1[i]:\n",
        "        k=nums2[0]\n",
        "        nums1.insert(i,k)\n",
        "        a+=1\n",
        "        nums2.remove(k)\n",
        "        i=0\n",
        "      else:\n",
        "        i+=1\n",
        "      if a==n:\n",
        "        break\n",
        "    nums=nums1\n",
        "  k=n//2\n",
        "  tag=(nums[k]+nums[n-1-k])/2.0\n",
        "print(tag)"
      ],
      "execution_count": null,
      "outputs": [
        {
          "output_type": "stream",
          "text": [
            "5.5\n"
          ],
          "name": "stdout"
        }
      ]
    },
    {
      "cell_type": "markdown",
      "metadata": {
        "id": "PAo_QCZCFDFS"
      },
      "source": [
        "**5. 最长回文子串**\n",
        "\n",
        "给你一个字符串 s，找到 s 中最长的回文子串。\n",
        "\n",
        " \n",
        "\n",
        "示例 1：\n",
        "\n",
        "输入：s = \"babad\"\n",
        "输出：\"bab\"\n",
        "解释：\"aba\" 同样是符合题意的答案。"
      ]
    },
    {
      "cell_type": "code",
      "metadata": {
        "id": "_OSdUhR1_NXe",
        "colab": {
          "base_uri": "https://localhost:8080/"
        },
        "outputId": "b49627c4-ba9d-4b65-e09a-174b7ce6b81f"
      },
      "source": [
        "s='babad'\n",
        "n=len(s)\n",
        "i=0\n",
        "l=list(s)\n",
        "tag=0\n",
        "num=0\n",
        "point=0\n",
        "if n<=1:\n",
        "  new=l\n",
        "else:\n",
        "  for i in (0,n):\n",
        "    m=min(i,n-1-i)\n",
        "    if m>0:\n",
        "      j=1\n",
        "      for j in range(1,m):\n",
        "        if l[i-j]==l[i+j]:\n",
        "          num+=1\n",
        "          j+=1\n",
        "        elif :\n",
        "        break\n",
        "    if num>tag:\n",
        "      tag=num\n",
        "      point=i\n",
        "      num=1\n",
        "  i+=1\n",
        "new=l[point-tag:point+tag]\n",
        "answer=\"\".join(new)\n",
        "print(answer)\n"
      ],
      "execution_count": null,
      "outputs": [
        {
          "output_type": "stream",
          "text": [
            "\n"
          ],
          "name": "stdout"
        }
      ]
    },
    {
      "cell_type": "code",
      "metadata": {
        "id": "vQKQ5oXKHcYn"
      },
      "source": [
        "\n",
        "      "
      ],
      "execution_count": null,
      "outputs": []
    }
  ]
}